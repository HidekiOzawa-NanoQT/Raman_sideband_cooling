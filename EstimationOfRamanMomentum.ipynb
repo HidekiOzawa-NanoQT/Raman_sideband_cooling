{
 "cells": [
  {
   "cell_type": "markdown",
   "metadata": {},
   "source": [
    "# Estmation of Raman momentum and Lamb-Dicke parameter\n",
    "## Created on 14th September, 2023\n",
    "## Author: Hideki Ozawa"
   ]
  },
  {
   "cell_type": "markdown",
   "metadata": {},
   "source": [
    "According to [Ref.1](https://doi.org/10.1103/PhysRevA.20.1521), the coupling term for two bands of a trap with indices $n,m$ is given by\n",
    "\\begin{equation}\n",
    "M = \\bra{n} {\\rm exp}(i \\mathbf{k} \\cdot \\mathbf{x} ) \\ket{m}. \\tag{1}\n",
    "\\end{equation}\n",
    "In the cause of optical transitions, the momemtnum projection is given by the photon recoil momentum.  \n",
    "For a harmonic oscillator, the position operator can be expressed in terms of the ladder operators:\n",
    "\\begin{equation}\n",
    "x = x_0 (\\hat{a}+\\hat{a}^{\\dagger}), \\tag{2}\n",
    "\\end{equation}\n",
    "where $x_0$ is the spread of the harmonic oscillator's ground state\n",
    "\\begin{equation}\n",
    "x_0 = \\sqrt{\\frac{\\hbar}{2m \\omega_x}} \\tag{3}\n",
    "\\end{equation}\n",
    "with $\\omega_x$ is the trap frequency along the x axis, for example.  \n",
    "The Lamb-Dicke parameter $\\eta$ is now defined as\n",
    "\\begin{equation}\n",
    "\\eta = k_x x_0, \\tag{4}\n",
    "\\end{equation}\n",
    "and a system is considered to be in the Lamb-Dicke regime if $\\eta \\gg 1$.  \n",
    "As in [Ref.1](https://doi.org/10.1103/PhysRevA.20.1521) and [Ref.2](https://doi.org/10.48550/arXiv.quant-ph/9710025), the resulting coupling using Eq.(2,4) can be give as\n",
    "\\begin{equation}\n",
    "M = {\\rm exp}\\left( -\\frac{\\eta^2}{2} \\right) \\sqrt{\\frac{n!}{m!}}\\eta^{m-n} L_n^{m-n}(\\eta^2), \\tag{5}\n",
    "\\end{equation}\n",
    "for the case of $m>n$. $L_n(x)$ are the Laguerre polynomials. In the Lamb-Dicke regime, the higher order terms of $m-n \\ge 2$ become negligibly small. As a result, the coupling can be approximated by\n",
    "\\begin{equation}\n",
    "\\begin{array}{lll}\n",
    "M = \\eta \\sqrt{n} \\quad &{\\rm for}& \\quad n \\rightarrow n-1 \\\\ \\tag{6}\n",
    "M = 1 - \\frac{2n+1}{2} \\eta^2 \\quad &{\\rm for}& \\quad n \\rightarrow n \\\\\n",
    "M = \\eta \\sqrt{n+1} \\quad &{\\rm for}& \\quad n \\rightarrow n+1.\\\\\n",
    "\\end{array}\n",
    "\\end{equation}\n",
    "The total coupling for optical transitions incorpolating sidebands is given yb the product of the coupling between vibrational states and the optical coupling. This can be expressed as the effective Rabi frequency\n",
    "\\begin{equation}\n",
    "\\Omega_{\\rm eff} = M \\Omega_0, \\tag{7}\n",
    "\\end{equation}\n",
    "where $\\Omega_0$ is the bare Rabi frequency."
   ]
  },
  {
   "cell_type": "markdown",
   "metadata": {},
   "source": [
    "![Figure.1](fig/RamanSidebandCoolingScheme.png)\n",
    "**Figure 1** Simplified scheme of Raman sideband cooling of <sup>171</sup>Yb using 556 nm lasers. (a) Raman transition from $\\ket{n} \\rightarrow \\ket{n-1}$, where $n$ means the vibrational level. (b) Initialization of the internal state using a repump laser. (c) Definition of the coordinate. Atoms trapped in tweezers are aligned along y axis. Standing waves are formed due to reflection of tweezers at the nanofiber. Because of this, the trap frequency along z axis is a few times larger than those in xy plane."
   ]
  },
  {
   "cell_type": "markdown",
   "metadata": {},
   "source": [
    "Figure 1(a,b) illustrates the simplified scheme of Raman sideband cooling for <sup>171</sup>Yb using 556 nm lasers. Figure 1(c) defines the coordinate used throughout this code.\n",
    "\n",
    "Optimal Lamb-Dicke parameters are supposed to be in the range of $0.1<\\eta<0.3$; A too large $\\eta$ violates the Lamb-Dicke condition of $\\eta^2 \\ll 1$, while a too small $\\eta$ leads to a small $\\Omega_{\\rm eff}$, which would make the Raman sideband cooling very slow."
   ]
  },
  {
   "cell_type": "markdown",
   "metadata": {},
   "source": [
    "## Libraries"
   ]
  },
  {
   "cell_type": "code",
   "execution_count": 1,
   "metadata": {},
   "outputs": [],
   "source": [
    "import numpy as np\n",
    "import matplotlib\n",
    "import matplotlib.pyplot as plt\n",
    "import matplotlib.cm as cm\n",
    "import astropy.units as u\n",
    "from regions import PixCoord, PolygonSkyRegion, PolygonPixelRegion\n",
    "from regions import RegularPolygonPixelRegion, CirclePixelRegion, RectanglePixelRegion"
   ]
  },
  {
   "cell_type": "markdown",
   "metadata": {},
   "source": [
    "## Physical constants"
   ]
  },
  {
   "cell_type": "code",
   "execution_count": 2,
   "metadata": {},
   "outputs": [],
   "source": [
    "#@title [Fundamental physical constants (2006 CODATA)](https://physics.nist.gov/cuu/Constants/RevModPhys_80_000633acc.pdf)\n",
    "c = 2.99792458 * 1e8 # Speed of Light (m/s)\n",
    "mu_0 = 2 * np.pi * 1e-7 # Permeability of Vacuum (N/A^2)\n",
    "epsilon_0 = 1 / (mu_0 * c**2) # Permittivity of Vacuum (F/m)\n",
    "h = 6.62606896 * 1e-34 # Planck constant (J/Hz)\n",
    "hbar = 6.62606896 * 1e-34 / (2 * np.pi) # Dirac constant (J/Hz)\n",
    "e = 1.602176487 * 1e-19 # Elementary Charge (C)\n",
    "mu_B = 9.27400915 * 1e-24 # Bohr Magneton (J/G)\n",
    "mass_u = 1.660538782 * 1e-27 # Atomic Mass Unit (kg)\n",
    "mass_e = 9.10938215 * 1e-31 # Electron Mass (kg)\n",
    "a0 = 0.52917720859 * 1e-10 # Bohr Radius (m)\n",
    "kB = 1.3806504 * 1e-23 # Boltzmann constant (J/K)"
   ]
  },
  {
   "cell_type": "code",
   "execution_count": 3,
   "metadata": {},
   "outputs": [],
   "source": [
    "mass_atom = mass_u * 171 # mass of 171Yb atom\n",
    "wavelength_D1 = 556 * 1e-9 # [m]\n",
    "\n",
    "k_D1 = 2 * np.pi / wavelength_D1 # 1/m"
   ]
  },
  {
   "cell_type": "markdown",
   "metadata": {},
   "source": [
    "## Parameters"
   ]
  },
  {
   "cell_type": "markdown",
   "metadata": {},
   "source": [
    "### Trap frequencies"
   ]
  },
  {
   "cell_type": "code",
   "execution_count": 12,
   "metadata": {},
   "outputs": [],
   "source": [
    "#Trap frequencies\n",
    "omega_x = 100 # [kHz]\n",
    "omega_y = 100 # [kHz]\n",
    "omega_z = 300 # [kHz]\n",
    "\n",
    "omega_x *= 1e3\n",
    "omega_y *= 1e3\n",
    "omega_z *= 1e3\n",
    "\n",
    "a_x = np.sqrt(hbar / (2 * mass_atom * 2 * np.pi * omega_x))\n",
    "a_y = np.sqrt(hbar / (2 * mass_atom * 2 * np.pi * omega_y))\n",
    "a_z = np.sqrt(hbar / (2 * mass_atom * 2 * np.pi * omega_z))"
   ]
  },
  {
   "cell_type": "markdown",
   "metadata": {},
   "source": [
    "### Raman beam parameters"
   ]
  },
  {
   "cell_type": "code",
   "execution_count": 16,
   "metadata": {},
   "outputs": [],
   "source": [
    "theta_R1 = 90 #[degree] polar angle of Raman1 (min:0, max:180)\n",
    "phi_R1 = 45 #[degree] azimuthal angle of Raman1 (min:0, max:360)\n",
    "theta_R2 = 135 #[degree] polar angle of Raman2 (min:0, max:180)\n",
    "phi_R2 = -180 #[degree] azimuthal angle of Raman2 (min:0, max:360)"
   ]
  },
  {
   "cell_type": "code",
   "execution_count": 17,
   "metadata": {},
   "outputs": [
    {
     "name": "stdout",
     "output_type": "stream",
     "text": [
      "k_R1 [ 7.07106781e-01 -7.07106781e-01  6.12323400e-17]\n",
      "k_R2 [-1.29893408e-16  7.07106781e-01 -7.07106781e-01]\n",
      "dk_R [ 0.70710678 -1.41421356  0.70710678]\n",
      "eta [ 0.13737276 -0.27474552  0.0793122 ]\n"
     ]
    }
   ],
   "source": [
    "phi_R1 = phi_R1 - 90\n",
    "phi_R2 = phi_R2 - 90\n",
    "\n",
    "k_R1 = np.array([np.sin(np.pi * theta_R1 / 180) * np.cos(np.pi * phi_R1 / 180),\n",
    "                 np.sin(np.pi * theta_R1 / 180) * np.sin(np.pi * phi_R1 / 180),\n",
    "                 np.cos(np.pi * theta_R1 / 180)])\n",
    "k_R2 = np.array([np.sin(np.pi * theta_R2 / 180) * np.cos(np.pi * phi_R2 / 180),\n",
    "                 np.sin(np.pi * theta_R2 / 180) * np.sin(np.pi * phi_R2 / 180),\n",
    "                 np.cos(np.pi * theta_R2 / 180)])\n",
    "\n",
    "dk_R = k_R1 - k_R2\n",
    "\n",
    "print(\"k_R1\", k_R1)\n",
    "print(\"k_R2\", k_R2)\n",
    "print(\"dk_R\", dk_R)\n",
    "print(\"eta\", dk_R*k_D1*np.array([a_x,a_y,a_z]))"
   ]
  },
  {
   "cell_type": "code",
   "execution_count": 18,
   "metadata": {},
   "outputs": [
    {
     "data": {
      "text/plain": [
       "Text(0.5, 1.0, '$\\\\theta_{R1} = 90.0^\\\\circ$, $\\\\theta_{R2} = 135.0^\\\\circ$\\n$\\\\Delta \\\\mathbf{k}_R$ = (7.99, 15.98, 7.99) $\\\\mu m^{-1}$\\n$(\\\\eta_x, \\\\eta_y, \\\\eta_z) = (0.137, 0.275, 0.079)$')"
      ]
     },
     "execution_count": 18,
     "metadata": {},
     "output_type": "execute_result"
    },
    {
     "data": {
      "image/png": "[encoded data removed]",
      "text/plain": [
       "<Figure size 800x500 with 2 Axes>"
      ]
     },
     "metadata": {
      "needs_background": "light"
     },
     "output_type": "display_data"
    }
   ],
   "source": [
    "dk_Rs = k_D1*np.abs(dk_R)\n",
    "a_xyz = np.array([a_x, a_y, a_z])\n",
    "eta_LD = dk_Rs * a_xyz\n",
    "\n",
    "labelsize=16\n",
    "xmin=-1.4\n",
    "xmax=-xmin\n",
    "ymin=xmin\n",
    "zmin=xmin\n",
    "ymax=xmax\n",
    "zmax=xmax\n",
    "\n",
    "fig =plt.figure(figsize=[8,5],dpi = 100)\n",
    "ax1 = fig.add_subplot(1,2,1)\n",
    "ax1.hlines(y=0,xmin=xmin,xmax=xmax, linestyles='--',linewidth=1,zorder=0)\n",
    "ax1.quiver(-k_R1[1], -k_R1[0], k_R1[1], k_R1[0], color='blue', angles='xy', scale_units='xy',scale=1,linewidth=1, edgecolor='blue',label=\"$k_{R1}$\")\n",
    "ax1.quiver(-k_R2[1], -k_R2[0], k_R2[1], k_R2[0], color='red', angles='xy', scale_units='xy', scale=1, linewidth=1, edgecolor='red', label=\"$k_{R2}$\")\n",
    "ax1.quiver(-dk_R[1], -dk_R[0], dk_R[1], dk_R[0], color='#aa00aa', angles='xy', scale_units='xy', scale=1, edgecolor='#aa00aa',linewidth=1, fc='None',label=\"$\\Delta k_{R} = k_{R1} - k_{R2}$\")\n",
    "ax1.set_aspect('equal')\n",
    "center=PixCoord(0,0)\n",
    "region1_pix = CirclePixelRegion(center,radius=0.5)\n",
    "region1_pix.plot(ax=ax1, color='gray', lw=2, linestyle='-')\n",
    "region2_pix = RegularPolygonPixelRegion(center, 8, 1,angle=180/8*u.deg)\n",
    "region2_pix.plot(ax=ax1, color='gray', lw=2, linestyle = '-')\n",
    "\n",
    "\n",
    "\n",
    "ax1.set_xlim([xmin, xmax])\n",
    "ax1.set_ylim([ymax, ymin])\n",
    "ax1.xaxis.set_ticks(np.linspace(-1,1,3))\n",
    "ax1.yaxis.set_ticks(np.linspace(-1,1,3))\n",
    "\n",
    "\n",
    "ax1.legend(loc='lower left',fontsize=12)\n",
    "\n",
    "ax1.set_xlabel('y-axis',fontsize=labelsize)\n",
    "ax1.set_ylabel('x-axis',fontsize=labelsize)\n",
    "txt_Title = r'$^{171}$Yb, $\\lambda=556$ nm' +'\\n'\n",
    "txt_Title += r'$(\\omega_x, \\omega_y, \\omega_z)$ = $2 \\pi \\times $(%d, %d, %d) kHz' % (omega_x / 1e3, omega_y / 1e3,omega_z / 1e3)\n",
    "txt_Title += '\\n$\\phi_{R1} = %.1f^\\circ$, $\\phi_{R2} = %.1f^\\circ$' % (phi_R1+90, phi_R2+90)\n",
    "\n",
    "ax1.set_title(txt_Title,fontsize=12)\n",
    "\n",
    "\n",
    "ax2 = fig.add_subplot(1,2,2)\n",
    "ax2.hlines(y=0,xmin=ymin,xmax=ymax, linestyles='--',linewidth=1,zorder=0)\n",
    "ax2.quiver(-k_R1[1], k_R1[2], k_R1[1], -k_R1[2], color='blue', angles='xy', scale_units='xy', scale=1, linewidth=1, edgecolor='blue', label=\"$k_{R1}$\")\n",
    "ax2.quiver(-k_R2[1], k_R2[2], k_R2[1], -k_R2[2], color='red', angles='xy', scale_units='xy', scale=1, linewidth=1, edgecolor='red', label=\"$k_{R2}$\")\n",
    "ax2.quiver(-dk_R[1], dk_R[2], dk_R[1], -dk_R[2], color='#aa00aa', angles='xy', scale_units='xy', scale=1, linewidth=1, edgecolor='#aa00aa',fc='None',label=\"$\\Delta k_{R} = k_{R1} - k_{R2}$\")\n",
    "ax2.set_aspect('equal')\n",
    "region3_pix = RectanglePixelRegion(center, width=1.8,height=0.8)\n",
    "region3_pix.plot(ax=ax2, color='gray', lw=2, linestyle = '-')\n",
    "ax2.set_xlim([ymin, ymax])\n",
    "ax2.set_ylim([zmin, zmax])\n",
    "ax2.xaxis.set_ticks(np.linspace(-1,1,3))\n",
    "ax2.yaxis.set_ticks(np.linspace(-1,1,3))\n",
    "ax2.set_xlabel('y-axis',fontsize=labelsize)\n",
    "ax2.set_ylabel('z-axis',fontsize=labelsize)\n",
    "\n",
    "plt.tight_layout()\n",
    "txt_Title = r'$\\theta_{R1} = %.1f^\\circ$, $\\theta_{R2} = %.1f^\\circ$' % (theta_R1, theta_R2)\n",
    "txt_Title += '\\n$\\Delta \\mathbf{k}_R$ = (%.2f, %.2f, %.2f) $\\mu m^{-1}$\\n' % (dk_Rs[0] / 1e6,dk_Rs[1] / 1e6, dk_Rs[2] / 1e6)\n",
    "txt_Title += \"$(\\eta_x, \\eta_y, \\eta_z) = (%.3f, %.3f, %.3f)$\" % (eta_LD[0], eta_LD[1], eta_LD[2])\n",
    "\n",
    "ax2.set_title(txt_Title, fontsize=12)"
   ]
  },
  {
   "cell_type": "code",
   "execution_count": null,
   "metadata": {},
   "outputs": [],
   "source": []
  }
 ],
 "metadata": {
  "kernelspec": {
   "display_name": "base",
   "language": "python",
   "name": "python3"
  },
  "language_info": {
   "codemirror_mode": {
    "name": "ipython",
    "version": 3
   },
   "file_extension": ".py",
   "mimetype": "text/x-python",
   "name": "python",
   "nbconvert_exporter": "python",
   "pygments_lexer": "ipython3",
   "version": "3.8.3"
  },
  "orig_nbformat": 4
 },
 "nbformat": 4,
 "nbformat_minor": 2
}
