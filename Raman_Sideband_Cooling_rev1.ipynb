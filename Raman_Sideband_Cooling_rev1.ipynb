{
  "cells": [
    {
      "cell_type": "markdown",
      "metadata": {
        "id": "V4N6lA73ixnO"
      },
      "source": [
        "# Numerical simulation of Raman sideband cooling\n",
        "\n",
        "The formulation and calculation below is based on David Can Nak master thesis (2019)."
      ]
    },
    {
      "cell_type": "markdown",
      "metadata": {
        "id": "Eq7WywAUjJus"
      },
      "source": [
        "![Figure.1](fig/RamanSidebandCoolingScheme_simplified.png)\n",
        "**Figure 1** Simplified scheme of Raman sideband cooling of <sup>171</sup>Yb using 556 nm lasers. (a) Raman transition from $\\ket{\\nu} \\rightarrow \\ket{\\nu-1}$, where $\\nu$ means the vibrational level. (b) Initialization of the internal state using a repump laser."
      ]
    },
    {
      "cell_type": "markdown",
      "metadata": {
        "id": "ExMmq9cDjfNy"
      },
      "source": [
        "In the order of their eigenenergies, the states are labeled as\n",
        "$$\\begin{align*}\n",
        "\\left| g1,\\nu \\right> &= 1S_{0}\\left| F=1,m_{F}=-1/2,\\nu \\right> = \\psi[0+\\nu]\\ (\\nu = 0,\\dots,N-1) \\\\\n",
        "\\left| g2,\\nu \\right> &= 1S_{0}\\left| F=1,m_{F}=1/2,\\nu \\right> = \\psi[N+\\nu]\\ (\\nu = 0,\\dots,N-1) \\\\\n",
        "\\left| e1,\\nu \\right> &= 3P_{1}\\left| F^{\\prime}=1/2,m_{F^{\\prime}}=-1/2,\\nu \\right> = \\psi[2N+\\nu]\\ (\\nu = 0,\\dots,N-1) \n",
        "\\end{align*}$$\n",
        "where $\\nu$ denotes the vibrational state. The density matrix components are then labeled as:\n",
        "$$\\begin{align*}\n",
        "  \\left< g1, \\nu \\right|\\rho(t)\\left| g1, \\nu \\right> & = \\rho[\\nu][\\nu] = y[\\nu+3N\\nu] \\\\\n",
        "  \\left< g2, \\nu \\right|\\rho(t)\\left| g2, \\nu \\right> & = \\rho[N+\\nu][N+\\nu] = y[(N+\\nu)+3N(N+\\nu)] \\\\\n",
        "  \\left< e1, \\nu \\right|\\rho(t)\\left| e1, \\nu \\right> & = \\rho[3N+\\nu][3N+\\nu] = y[(2N+\\nu)+3N(2N+\\nu)] \\\\\n",
        "\\end{align*}$$\n",
        "In this basis set, the Hamiltonian for each interaction can be expressed as\n",
        "\n",
        "$$\\begin{align*}\n",
        "\\mathcal{H}_{\\rm Raman} & = -\\frac{\\hbar}{2}\\begin{pmatrix}\n",
        "    2\\Omega_{\\rm R1}^{\\rm AC}\\mathcal{C}_{1,N} & \\Omega_{\\rm R}e^{i\\delta_{\\rm R} t}\\mathcal{C}_{{\\rm R},N} & 0  \\\\\n",
        "    \\Omega_{\\rm R}^*e^{-i\\delta_{\\rm R} t}\\mathcal{C}_{{\\rm R},N}^\\dagger & 2\\Omega_{\\rm R2}^{\\rm AC}\\mathcal{C}_{2,N} & 0 \\\\\n",
        "    0 & 0 & 0  \n",
        "\\end{pmatrix} \\\\\n",
        "\\mathcal{H}_{\\rm Repump} & = \\frac{\\hbar}{2}\\begin{pmatrix}\n",
        "    0 & 0 &  \\Omega_{\\rm RP1}e^{i\\delta_{\\rm RP1}t}\\mathcal{C}_{{\\rm RP1},N} \\\\\n",
        "    0 & 0 & 0  \\\\\n",
        "    \\Omega_{\\rm RP1}^*e^{-i\\delta_{\\rm RP1}t}\\mathcal{C}_{{\\rm RP1},N}^\\dagger & 0 & 0 \n",
        "\\end{pmatrix} \\\\\n",
        "\\end{align*}$$\n",
        "where\n",
        "$$\\begin{align*}\n",
        "\\Omega_{\\rm R} & = \\frac{\\Omega_{11}\\Omega_{22}^*}{2\\Delta} {\\rm \\; : Rabi \\; frequency \\; of \\; Raman \\; transition} \\\\\n",
        "\\Omega_1^{\\rm AC} & = \\frac{|\\Omega_{11}|^2}{4\\Delta} + \\frac{|\\Omega_{12}|^2}{4(\\Delta + \\delta_{\\rm R})} {\\rm \\; : AC \\; Stark \\; shift \\; (light \\; shift) \\; due \\; to \\; Raman \\; beams} \\\\\n",
        "\\Omega_2^{\\rm AC} & = \\frac{|\\Omega_{21}|^2}{4(\\Delta-\\omega_{21})} + \\frac{|\\Omega_{22}|^2}{4(\\Delta + \\delta_{\\rm R})} \\\\\n",
        "\\end{align*}$$\n",
        "and\n",
        "$$\\begin{align*}\n",
        "\\mathcal{C}_{1,N} & = \\begin{pmatrix}\n",
        "  0 & & & \\\\\n",
        "   & 1 & & \\\\\n",
        "   & & \\ddots & \\\\\n",
        "   & & & 1\n",
        "\\end{pmatrix} \\ : \\ {\\rm Transition}\\ {\\rm between}\\ \\left| g2, \\nu \\right>\\ {\\rm and}\\ \\left| VS, \\nu \\right>\\ ({\\rm transition}\\ {\\rm from}\\ \\nu = 0\\ {\\rm will}\\ {\\rm not}\\ {\\rm occur}) \\\\\n",
        "\\mathcal{C}_{2,N} & = \\begin{pmatrix}\n",
        "  1 & & & \\\\\n",
        "   & \\ddots & & \\\\\n",
        "   & & 1 & \\\\\n",
        "   & & & 0\n",
        "\\end{pmatrix} \\ : \\ {\\rm Transition}\\ {\\rm between}\\ \\left| g1, \\nu-1 \\right>\\ {\\rm and}\\ \\left| VS, \\nu \\right>\\ ({\\rm transition}\\ {\\rm from}\\ \\nu = N-1\\ {\\rm will}\\ {\\rm not}\\ {\\rm occur})  \\\\\n",
        "\\mathcal{C}_{{\\rm R},N} & = \\begin{pmatrix}\n",
        "  0 & M[1\\rightarrow1]M[1\\rightarrow0] & & & \\\\\n",
        "   & \\ddots & \\ddots & & \\\\\n",
        "   & & \\ddots & M[\\nu+1\\rightarrow\\nu+1]M[\\nu+1\\rightarrow\\nu] & \\\\\n",
        "   & & & \\ddots & \\ddots \\\\\n",
        "   & & & & \\ddots\n",
        "\\end{pmatrix} \\ : \\ {\\rm Transition}\\ {\\rm between}\\ \\left| g2, \\nu \\right>\\ {\\rm and}\\ \\left| g1, \\nu-1 \\right> \\\\\n",
        "\\mathcal{C}_{RPk,N} & = \\begin{pmatrix}\n",
        "  M[0\\rightarrow0] & M[1\\rightarrow0] & & \\\\\n",
        "  M[0\\rightarrow1] & \\ddots & \\ddots & \\\\\n",
        "   & \\ddots & \\ddots & \\ddots & & \\\\\n",
        "   & & M[\\nu-1\\rightarrow\\nu] & M[\\nu\\rightarrow\\nu] & M[\\nu+1\\rightarrow\\nu] & \\\\\n",
        "   & & & \\ddots & \\ddots & \\ddots\n",
        "\\end{pmatrix} \\ : \\ {\\rm Transition}\\ {\\rm between}\\ \\left| e_k, \\nu \\right>\\ {\\rm and}\\ \\left| g_k, \\nu(\\pm1) \\right>\n",
        "\\end{align*}$$\n",
        "\n",
        "where\n",
        "$$M[\\nu\\rightarrow\\nu'] = e^{-\\frac{\\eta^2}{2}}\\sqrt{ \\frac{\\nu_{<}!}{(\\nu_{<}+\\Delta\\nu)!} }\\eta^{\\Delta\\nu}L^{\\Delta\\nu}_{\\nu_{<}}(\\eta^2).$$\n",
        "Truncating the expansion of the Laguerre polynomials at order 2,\n",
        "$$\\begin{align*}\n",
        "M[\\nu-1\\rightarrow\\nu] & \\approx  \\sqrt{\\nu}\\eta \\\\\n",
        "M[\\nu\\rightarrow\\nu] & \\approx  1 - \\left(\\nu+\\frac{1}{2}\\right)\\eta^2 \\\\\n",
        "M[\\nu+1\\rightarrow\\nu] & \\approx  \\sqrt{\\nu+1}\\eta.\n",
        "\\end{align*}$$\n",
        "\n",
        "Note that the Hamiltonian cannot be transformed into the rotating frame, since each interaction may have different detunings. Thus the time-dependence cannot be removed.\n",
        "\n",
        "\n",
        "The state of the atoms can be described by the density matrix\n",
        "$$\n",
        "\\rho(t) := \\sum_{i,j}c_ic_j^*\\left|\\psi_i\\right>\\left<\\psi_j\\right|\n",
        "$$\n",
        "which follows the Lindblad equation\n",
        "$$\n",
        "\\frac{d}{dt}\\rho(t) = -\\frac{i}{\\hbar}\\left[ \\mathcal{H}_{int},\\rho(t) \\right] + \\sum_{paths}L_{decay}.\n",
        "$$\n",
        "\n",
        "The Lindblad term for a particular decay path is given by\n",
        "$$\n",
        "L_{decay} = \\Gamma_{I} \\sum_{\\Delta\\nu = -1, 0, +1}\\left[ \\Gamma_{\\nu\\rightarrow\\nu+\\Delta\\nu} \\left(|c_{g,\\nu+\\Delta\\nu}(t)|^2\\left| e,\\nu \\right>\\left< e,\\nu \\right| - \\frac{1}{2}\\left| g,\\nu+\\Delta\\nu \\right>\\left< g,\\nu+\\Delta\\nu \\right|\\rho(t) - \\frac{1}{2}\\rho(t)\\left| g,\\nu+\\Delta\\nu \\right>\\left< g,\\nu+\\Delta\\nu \\right|\\right) \\right]\n",
        "$$\n",
        "where\n",
        "$$\\begin{align*}\n",
        "\\Gamma_{\\nu \\rightarrow \\nu-1} & = \\eta^2\\nu \\\\\n",
        "\\Gamma_{\\nu \\rightarrow \\nu} & = (1 - \\eta^2(2\\nu+1)) \\\\\n",
        "\\Gamma_{\\nu \\rightarrow \\nu+1} & = \\eta^2(\\nu+1).\n",
        "\\end{align*}$$\n",
        "\n",
        "Here, $\\left| i \\right>\\left< i \\right|$ is a single-element matrix where only the $(i,i)$ element is 1. This acts as a row/column selector when multiplied with a matrix, yielding\n",
        "$$\n",
        "|c_{g}(t)|^2\\left| e \\right>\\left< e \\right| - \\frac{1}{2}\\left| g \\right>\\left< g \\right|\\rho(t) - \\frac{1}{2}\\rho(t)\\left| g \\right>\\left< g \\right| = |c_{g}(t)|^2\\mathcal{S}_{e} - \\frac{1}{2}\\mathcal{R}_{g}[\\rho(t)] - \\frac{1}{2}\\mathcal{C}_{g}[\\rho(t)]\n",
        "$$\n",
        "where $\\mathcal{S}_{e}$ is a single-entry matrix with only the $(e,e)$ element as 1, $\\mathcal{R}_{g}[\\rho(t)]$ is a matrix containing only the row $g$ of $\\rho(t)$, and $\\mathcal{C}_{g}[\\rho(t)]$ is a matrix containing only the column $g$ of $\\rho(t)$. Rearranging the terms,\n",
        "$$\n",
        "L(\\rho) = \\sum_{paths}L_{decay} = \\left[\\sum_{I}\\sum_{\\nu}\\sum_{\\Delta\\nu = -1, 0, +1} \\Gamma_{I} \\Gamma_{\\nu\\rightarrow\\nu+\\Delta\\nu} \\rho_{g,\\nu+\\Delta\\nu}(t)\\mathcal{S}_{e,\\nu} \\right] - \\frac{1}{2} \\left[\\sum_{I}\\sum_{\\nu}\\sum_{\\Delta\\nu = -1, 0, +1} \\Gamma_{I} \\Gamma_{\\nu\\rightarrow\\nu+\\Delta\\nu}\\mathcal{S}_{g,\\nu+\\Delta\\nu}\\right]\\rho(t) - \\frac{1}{2}\\rho(t)\\left[ \\sum_{I}\\sum_{\\nu}\\sum_{\\Delta\\nu = -1, 0, +1} \\Gamma_{I} \\Gamma_{\\nu\\rightarrow\\nu+\\Delta\\nu}\\mathcal{S}_{g,\\nu+\\Delta\\nu}\\right]\n",
        "$$\n",
        "is obtained. In the calculation, the first term is named the \"S term\", and the factor in brackets in the second and third terms are named the \"RC matrix\". Note that the RC matrix can be calculated without the values of $\\rho$.\n",
        "\n",
        "The coefficient $\\Gamma_{I}$ is given by the product of the decay rate of the particular transition $\\left| J, F, m_F \\right> \\rightarrow \\left| J', F', m'_F \\right>$:\n",
        "$$\n",
        "\\Gamma_I = \\frac{2\\pi}{\\tau_{\\left| J, F, m_F \\right>}} \\frac{2J'+1}{2J+1}(-1)^{2F'+J+I+m_F}\\sqrt{(2F'+1)(2F+1)(2J+1)}\n",
        "\\begin{pmatrix}\n",
        "F' & 1 & F \\\\\n",
        "m'_F & m_F-m'_F & -m_F\n",
        "\\end{pmatrix}\\begin{Bmatrix}\n",
        "J & J' & 1 \\\\\n",
        "F' & F & I\n",
        "\\end{Bmatrix}.\n",
        "$$\n",
        "\n",
        "From the symmetries of $3j$ and $6j$ symbols, the normalization condition\n",
        "$$\n",
        "\\sum_{F,m_F} \\left| (-1)^{2F'+J+I+m_F}\\sqrt{(2F'+1)(2F+1)(2J+1)}\n",
        "\\begin{pmatrix}\n",
        "F' & 1 & F \\\\\n",
        "m'_F & m_F-m'_F & -m_F\n",
        "\\end{pmatrix}\\begin{Bmatrix}\n",
        "J & J' & 1 \\\\\n",
        "F' & F & I\n",
        "\\end{Bmatrix} \\right|^2 = 1\n",
        "$$\n",
        "exists. Thus,\n",
        "$$\n",
        "\\sum_{F,m_F} |\\Gamma_I|^2 = \\left(\\frac{2\\pi}{\\tau_{\\left| J, F, m_F \\right>}}\\frac{2J'+1}{2J+1}\\right)^2\n",
        "$$\n",
        "holds and the ratio\n",
        "$$\n",
        "\\frac{|\\Gamma_I|^2}{\\sum_{F,m_F} |\\Gamma_I|^2}\n",
        "$$\n",
        "can be considered as the \"branching ratio\" of the particular decay path $I$ among the competing decay paths from the same level.\n",
        "\n",
        "The result is given as the \"mean vibrational number\" as:\n",
        "$$\\begin{align*}\n",
        "\\left<\\nu\\right> & = \\sum_\\nu \\nu \\left| c_{g2,\\nu}(t) \\right|^2 \\\\\n",
        "& = \\sum_{\\nu = 0}^{N-1} \\nu \\left< g2,\\nu \\right| \\rho(t) \\left| g2,\\nu \\right>.\n",
        "\\end{align*}$$\n",
        "\n",
        "Also, the number of scattered photons per unit time can be calculated by\n",
        "$$\n",
        "\\frac{\\delta N_{SP}}{\\delta t} = \\sum_{\\nu}\\left[\\Gamma_{4,1}|c_{4,\\nu}(t)|^2 + (\\Gamma_{3,0} + \\Gamma_{3,1} + \\Gamma_{3,2})|c_{3,\\nu}(t)|^2\\right].\n",
        "$$\n",
        "\n",
        "In order to approximately realize the situation where there are infinitely many vibrational levels, an additional condition is set to the Raman Hamiltonian where the transition from $\\nu = N-1$ to $\\nu = N-2$ is suppressed.\n",
        "This can be realized by the substitutions\n",
        "$$\\begin{align*}\n",
        "\\mathcal{C}_{{\\rm R},N} & = \\begin{pmatrix}\n",
        "  0 & \\left(1-\\frac{3}{2}{\\eta_{\\rm R}}^2\\right)\\eta_{\\rm R} & & & & \\\\\n",
        "   & \\ddots & \\ddots & & & \\\\\n",
        "   & & \\ddots & \\left(1-\\frac{2\\nu+1}{2}{\\eta_{\\rm R}}^2\\right)\\eta_{\\rm R}\\sqrt{\\nu} & & \\\\\n",
        "   & & & \\ddots & \\ddots & \\\\\n",
        "   & & & & \\ddots & \\left(1-\\frac{2(N-1)+1}{2}{\\eta_{\\rm R}}^2\\right)\\eta_{\\rm R}\\sqrt{N-1} \\rightarrow 0 \\\\\n",
        "   & & & & & 0\n",
        "\\end{pmatrix} \\\\\n",
        "\\mathcal{C}_{RPk,N} & = \\begin{pmatrix}\n",
        "  1-\\frac{1}{2}{\\eta_k}^2 & \\eta_k & & & \\\\\n",
        "  \\eta_k & \\ddots & \\ddots & & \\\\\n",
        "   & \\ddots & \\ddots & \\ddots & & & \\\\\n",
        "   & & \\eta_k\\sqrt{\\nu} & 1-\\frac{2\\nu+1}{2}{\\eta_k}^2 & \\eta_k\\sqrt{\\nu+1} & \\\\\n",
        "   & & & \\ddots & \\ddots & \\ddots & \\\\\n",
        "   & & & & \\ddots & \\ddots & \\eta_k\\sqrt{N-1}\\rightarrow0 \\\\   \n",
        "   & & & & & \\eta_k\\sqrt{N-1} & 1-\\frac{2(N-1)+1}{2}{\\eta_k}^2\n",
        "\\end{pmatrix}.\n",
        "\\end{align*}$$\n",
        "The effect of this \"trapping\" can be observed by monitoring the population evolution of the top vibrational state:\n",
        "$$\n",
        "\\sum_{states} |c_{state,\\nu=N-1}(t)|^2.\n",
        "$$\n",
        "\n",
        "Finally, the measure of the calculation precision is monitored by the sum of all populations:\n",
        "$$\n",
        "\\sum_{all}|c_{states}(t)|^2 = \\mathrm{Tr}[\\rho(t)]\n",
        "$$\n",
        "which physically should be normalized to 1 at all times."
      ]
    },
    {
      "cell_type": "markdown",
      "metadata": {
        "id": "utcDK0YvtDU5"
      },
      "source": [
        "# Calculation flow"
      ]
    },
    {
      "cell_type": "code",
      "execution_count": null,
      "metadata": {
        "id": "EDKPH5w1jeoH"
      },
      "outputs": [],
      "source": [
        "## Prerequisites\n",
        "import numpy as np\n",
        "import matplotlib.pyplot as plt\n",
        "from scipy.integrate import solve_ivp\n",
        "from sympy.physics.wigner import wigner_3j\n",
        "from sympy.physics.wigner import wigner_6j\n",
        "from tqdm import tqdm"
      ]
    },
    {
      "cell_type": "code",
      "execution_count": null,
      "metadata": {
        "id": "YEyvfXyokeBm"
      },
      "outputs": [],
      "source": [
        "## Simulation conditions\n",
        "N = 5 # number of vibrational levels\n",
        "t_limit = 5 # ms; time range of simulation"
      ]
    },
    {
      "cell_type": "code",
      "execution_count": null,
      "metadata": {
        "id": "w-U-89Slkha5"
      },
      "outputs": [],
      "source": [
        "## Simulation parameters\n",
        "etaR = 0.21\n",
        "eta1 = 0.17\n",
        "eta2 = 0.17\n",
        "eta3 = 0.17\n",
        "\n",
        "OmegaR = 2*np.pi * 54 # rad kHz\n",
        "Delta = 2*np.pi * 100*(10**6) # rad kHz\n",
        "deltaR = 2*np.pi * 0 # rad kHz\n",
        "OmegaACR2 = (1/2) * (Delta/(Delta+deltaR)) * OmegaR # rad kHz\n",
        "OmegaACR1 = (1/2) * OmegaR # rad kHz\n",
        "OmegaRP1 = 2*np.pi * 149 # rad kHz\n",
        "deltaRP1 = 2*np.pi * 0 # rad kHz\n",
        "OmegaRP2 = 2*np.pi * 86 # rad kHz\n",
        "deltaRP2 = 2*np.pi * 2000 # rad kHz\n",
        "OmegaRP3 = 2*np.pi * 47 # rad kHz\n",
        "deltaRP3 = 2*np.pi * 0 # rad kHz\n",
        "\n",
        "etaS = 0.17"
      ]
    },
    {
      "cell_type": "code",
      "execution_count": null,
      "metadata": {
        "id": "TAwtTiHmkkhJ"
      },
      "outputs": [],
      "source": [
        "## Useful functions\n",
        "\n",
        "def krDelta (i,j):\n",
        "  if i == j:\n",
        "    return 1\n",
        "  else:\n",
        "    return 0\n",
        "\n",
        "def index_1d (ST,VL):\n",
        "    # ST = (0,1,2,3,4) <=> g1,g2,g3,e1,e2\n",
        "    # VL = 0,1,2,...,N-1\n",
        "    return (ST*N + VL) * (5*N + 1)\n",
        "\n",
        "def index_2d (ST,VL):\n",
        "    # ST = (0,1,2,3,4) <=> g1,g2,g3,e1,e2\n",
        "    # VL = 0,1,2,...,N-1\n",
        "    return ST*N + VL\n",
        "\n",
        "def normalize(v):\n",
        "    norm = np.linalg.norm(v)\n",
        "    if norm == 0:\n",
        "       return v\n",
        "    return v / norm"
      ]
    },
    {
      "cell_type": "code",
      "execution_count": null,
      "metadata": {
        "id": "0yxJMhFNknby"
      },
      "outputs": [],
      "source": [
        "## Sub-matrices\n",
        "\n",
        "# C_1\n",
        "C_1 = np.eye(N,dtype=np.complex64)\n",
        "C_1[0][0] = 0\n",
        "\n",
        "# C_2\n",
        "C_2 = np.eye(N,dtype=np.complex64)\n",
        "C_2[N-1][N-1] = 0\n",
        "\n",
        "# C_R\n",
        "crvec = np.array([(1-((2*(j+1)+1)/2)*etaR*etaR)*etaR*np.sqrt(j+1) for j in range(N-1)])\n",
        "crvec[N-2] = 0 # N-1 --> N-2 cooling suppressed\n",
        "C_R = np.diag(crvec, k=1)\n",
        "\n",
        "# C_RP1\n",
        "crpdiag = np.array([1-((2*j+1)/2)*eta1*eta1 for j in range(N)], dtype=np.complex64)\n",
        "C_RP1_carrier = np.diag(crpdiag, k=0) # carrier\n",
        "crpoffd = np.array([eta1*np.sqrt(j+1) for j in range(N-1)], dtype=np.complex64)\n",
        "C_RP1_CSB = np.diag(crpoffd, k=1) # cooling only\n",
        "C_RP1_CSB[N-2][N-1] = 0 # N-1 --> N-2 cooling suppressed\n",
        "C_RP1_HSB = np.diag(crpoffd, k=-1) # heating only\n",
        "C_RP1 = C_RP1_CSB + C_RP1_HSB + C_RP1_carrier\n",
        "\n",
        "# C_RP2\n",
        "crpdiag = np.array([1-((2*j+1)/2)*eta2*eta2 for j in range(N)], dtype=np.complex64)\n",
        "C_RP2_carrier = np.diag(crpdiag, k=0) # carrier\n",
        "crpoffd = np.array([eta2*np.sqrt(j+1) for j in range(N-1)], dtype=np.complex64)\n",
        "C_RP2_CSB = np.diag(crpoffd, k=1) # cooling only\n",
        "C_RP2_CSB[N-2][N-1] = 0 # N-1 --> N-2 cooling suppressed\n",
        "C_RP2_HSB = np.diag(crpoffd, k=-1) # heating only\n",
        "C_RP2 = C_RP2_CSB + C_RP2_HSB + C_RP2_carrier\n",
        "\n",
        "# C_RP3\n",
        "crpdiag = np.array([1-((2*j+1)/2)*eta3*eta3 for j in range(N)], dtype=np.complex64)\n",
        "C_RP3_carrier = np.diag(crpdiag, k=0) # carrier\n",
        "crpoffd = np.array([eta3*np.sqrt(j+1) for j in range(N-1)], dtype=np.complex64)\n",
        "C_RP3_CSB = np.diag(crpoffd, k=1) # cooling only\n",
        "C_RP3_CSB[N-2][N-1] = 0 # N-1 --> N-2 cooling suppressed\n",
        "C_RP3_HSB = np.diag(crpoffd, k=-1) # heating only\n",
        "C_RP3 = C_RP3_CSB + C_RP3_HSB + C_RP3_carrier"
      ]
    },
    {
      "cell_type": "code",
      "execution_count": null,
      "metadata": {
        "id": "bOinZZVgkrbW"
      },
      "outputs": [],
      "source": [
        "## Interaction Hamiltonian\n",
        "\n",
        "Z = np.zeros((5*N,5*N),dtype=np.complex64)\n",
        "\n",
        "# H_Raman\n",
        "# diagonal\n",
        "H_Raman_d = Z.copy()\n",
        "H_Raman_d[0*N:1*N,0*N:1*N] = 2*OmegaACR2*C_2\n",
        "H_Raman_d[1*N:2*N,1*N:2*N] = 2*OmegaACR1*C_1\n",
        "H_Raman_d *= -0.5\n",
        "\n",
        "# off-diagonal\n",
        "H_Raman_o = Z.copy()\n",
        "H_Raman_o[0*N:1*N,1*N:2*N] = OmegaR*C_R\n",
        "H_Raman_o[1*N:2*N,0*N:1*N] = OmegaR*C_R.T\n",
        "H_Raman_o *= -0.5\n",
        "\n",
        "# H_RP1 [0 <-> 3]\n",
        "H_RP1 = Z.copy()\n",
        "H_RP1[0*N:1*N,3*N:4*N] = OmegaRP1 * C_RP1\n",
        "H_RP1[3*N:4*N,0*N:1*N] = OmegaRP1 * C_RP1.T\n",
        "H_RP1 *= 0.5\n",
        "\n",
        "# H_RP2 [2 <-> 3]\n",
        "H_RP2 = Z.copy()\n",
        "H_RP2[2*N:3*N,3*N:4*N] = OmegaRP2 * C_RP2\n",
        "H_RP2[3*N:4*N,2*N:3*N] = OmegaRP2 * C_RP2.T\n",
        "H_RP2 *= 0.5\n",
        "\n",
        "# H_RP3 [1 <-> 4]\n",
        "H_RP3 = Z.copy()\n",
        "H_RP3[1*N:2*N,4*N:5*N] = OmegaRP3 * C_RP3\n",
        "H_RP3[4*N:5*N,1*N:2*N] = OmegaRP3 * C_RP3.T\n",
        "H_RP3 *= 0.5\n",
        "\n",
        "def H_int (t):\n",
        "    Raman = np.triu(H_Raman_o,k=-1) * np.exp(1j*deltaR*t)\n",
        "    Raman += np.tril(H_Raman_o,k=-1) * np.exp(-1j*deltaR*t)\n",
        "    Raman += H_Raman_d\n",
        "    RP1 = np.triu(H_RP1,k=-1) * np.exp(1j*deltaRP1*t)\n",
        "    RP1 += np.tril(H_RP1,k=-1) * np.exp(-1j*deltaRP1*t)\n",
        "    RP2 = np.triu(H_RP2,k=-1) * np.exp(1j*deltaRP2*t)\n",
        "    RP2 += np.tril(H_RP2,k=-1) * np.exp(-1j*deltaRP2*t)\n",
        "    RP3 = np.triu(H_RP3,k=-1) * np.exp(1j*deltaRP3*t)\n",
        "    RP3 += np.tril(H_RP3,k=-1) * np.exp(-1j*deltaRP3*t)\n",
        "    return Raman + RP1 + RP2 + RP3"
      ]
    },
    {
      "cell_type": "code",
      "execution_count": null,
      "metadata": {
        "id": "IJ98z0VSkvmm"
      },
      "outputs": [],
      "source": [
        "## Lindblad terms (spontaneous emission)\n",
        "\n",
        "def GeoFactor (I,J,F,mF,Jp,Fp,mFp):\n",
        "    sgn = (-1)**(2*Fp+J+I+mF)\n",
        "    rt = np.sqrt((2*Fp+1)*(2*F+1)*(2*J+1))\n",
        "    tri = float(wigner_3j(Fp,1,F,mFp,mF-mFp,-mF))\n",
        "    hex = float(wigner_6j(J,Jp,1,Fp,F,I))\n",
        "    GeoFac = sgn * rt * tri * hex\n",
        "    return GeoFac\n",
        "\n",
        "def GammaFactor (ji,jf):\n",
        "    tau , I = 26.2*10**(-6), 3/2\n",
        "    invtau  = 2*np.pi/tau # rad kHz\n",
        "    J, Jp = 3/2, 1/2 # 5P3/2 --> 5S1/2\n",
        "    JJ = (2*Jp+1)/(2*J+1)\n",
        "    if ji==3 and jf==0: # |2, -2> --> |1, -1>\n",
        "        F, mF, Fp, mFp = 2, -2, 1, -1\n",
        "        Gamma = invtau * JJ * GeoFactor(I,J,F,mF,Jp,Fp,mFp)\n",
        "    elif ji==3 and jf==1: # |2, -2> --> |2, -2>\n",
        "        F, mF, Fp, mFp = 2, -2, 2, -2\n",
        "        Gamma = invtau * JJ * GeoFactor(I,J,F,mF,Jp,Fp,mFp)\n",
        "    elif ji==3 and jf==2: # |2, -2> --> |2, -1>\n",
        "        F, mF, Fp, mFp = 2, -2, 2, -1\n",
        "        Gamma = invtau * JJ * GeoFactor(I,J,F,mF,Jp,Fp,mFp)\n",
        "    elif ji==4 and jf==1: # |3, -3> --> |2, -2>\n",
        "        F, mF, Fp, mFp = 3, -3, 2, -2\n",
        "        Gamma = invtau * JJ * GeoFactor(I,J,F,mF,Jp,Fp,mFp)\n",
        "    else:\n",
        "        Gamma = invtau * JJ\n",
        "    return Gamma\n",
        "\n",
        "gtot = abs(round(GammaFactor(0,0),-3))\n",
        "g30 = abs(round(GammaFactor(3,0),-3))\n",
        "g31 = abs(round(GammaFactor(3,1),-3))\n",
        "g32 = abs(round(GammaFactor(3,2),-3))\n",
        "g41 = abs(round(GammaFactor(4,1),-3))\n",
        "# print(r'$\\sqrt{\\sum_{F,mF}\\left|\\Gamma_I\\right|^2} = 2\\pi\\times$ %3.1e kHz'%(gtot/(2*np.pi)))\n",
        "# print(r'$BR_{3,0} = $%3.1f %%'%(100*(g30/gtot)**2))\n",
        "# print(r'$BR_{3,1} = $%3.1f %%'%(100*(g31/gtot)**2))\n",
        "# print(r'$BR_{3,2} = $%3.1f %%'%(100*(g32/gtot)**2))\n",
        "# print(r'$BR_{4,1} = $%3.1f %%'%(100*(g41/gtot)**2))\n",
        "\n",
        "# nu -> nu' coupling rates\n",
        "cooling = np.array([ (etaS*etaS*VL) for VL in range(N)], dtype=np.complex64)\n",
        "cooling[N-1] = 0 # N-1 --> N-2 cooling suppressed\n",
        "carrier = np.array([ (1-etaS*etaS*(2*VL+1)) for VL in range(N)], dtype=np.complex64)\n",
        "heating = np.array([ (etaS*etaS*(VL+1)) for VL in range(N)], dtype=np.complex64)\n",
        "\n",
        "# R/C matrix\n",
        "RC = Z.copy()\n",
        "RC[0*N:1*N,0*N:1*N] += g30 * np.diag(np.append(cooling[1:N],0) + carrier + np.append(0,heating[0:N-1]))\n",
        "RC[1*N:2*N,1*N:2*N] += g31 * np.diag(np.append(cooling[1:N],0) + carrier + np.append(0,heating[0:N-1]))\n",
        "RC[2*N:3*N,2*N:3*N] += g32 * np.diag(np.append(cooling[1:N],0) + carrier + np.append(0,heating[0:N-1]))\n",
        "RC[1*N:2*N,1*N:2*N] += g41 * np.diag(np.append(cooling[1:N],0) + carrier + np.append(0,heating[0:N-1]))\n",
        "\n",
        "S_term = Z.copy()\n",
        "\n",
        "def LSO (rho):\n",
        "    global S_term\n",
        "    S_term.fill(0)\n",
        "    cgg = np.diag(rho) # array of |c|^2 's\n",
        "    # for path 30\n",
        "    S_term[3*N:4*N,3*N:4*N] += g30 * np.diag(cooling*np.append(0,cgg[0*N:1*N-1]) + carrier*cgg[0*N:1*N] + heating*np.append(cgg[0*N+1:1*N],0))\n",
        "    # for path 31\n",
        "    S_term[3*N:4*N,3*N:4*N] += g31 * np.diag(cooling*np.append(0,cgg[1*N:2*N-1]) + carrier*cgg[1*N:2*N] + heating*np.append(cgg[1*N+1:2*N],0))\n",
        "    # for path 32\n",
        "    S_term[3*N:4*N,3*N:4*N] += g32 * np.diag(cooling*np.append(0,cgg[2*N:3*N-1]) + carrier*cgg[2*N:3*N] + heating*np.append(cgg[2*N+1:3*N],0))\n",
        "    # for path 41\n",
        "    S_term[4*N:5*N,4*N:5*N] += g41 * np.diag(cooling*np.append(0,cgg[1*N:2*N-1]) + carrier*cgg[1*N:2*N] + heating*np.append(cgg[1*N+1:2*N],0))\n",
        "    return S_term - 0.5*RC@rho - 0.5*rho@RC"
      ]
    },
    {
      "cell_type": "code",
      "execution_count": null,
      "metadata": {
        "id": "REbBG8aYliyB"
      },
      "outputs": [],
      "source": [
        "## Lindblad equation (right-hand-side)\n",
        "\n",
        "def RSC(t, y, pbar, state):\n",
        "    ## timekeeper\n",
        "    last_t, dt = state\n",
        "    n = int((t - last_t)/dt)\n",
        "    pbar.update(n)\n",
        "    state[0] = last_t + dt * n\n",
        "\n",
        "    ## coherence terms\n",
        "    H = H_int(t).view()\n",
        "    rho = y.reshape([5*N,5*N])\n",
        "    coherence = -1j * (H@rho - rho@H)\n",
        "\n",
        "    ## decoherence terms\n",
        "    decoherence = LSO(rho).view()\n",
        "\n",
        "    drhodt = coherence + decoherence\n",
        "    # drhodt = coherence.view() # neglect spontaneous emission\n",
        "    RHS = drhodt.reshape(-1)\n",
        "    return RHS"
      ]
    },
    {
      "cell_type": "code",
      "execution_count": null,
      "metadata": {
        "colab": {
          "base_uri": "https://localhost:8080/",
          "height": 281
        },
        "id": "tleaXODGl8BO",
        "outputId": "2504dfdd-98b5-492a-b95b-59e783fe76d1"
      },
      "outputs": [
        {
          "data": {
            "image/png": "[encoded data removed]",
            "text/plain": [
              "<Figure size 432x288 with 1 Axes>"
            ]
          },
          "metadata": {
            "needs_background": "light",
            "tags": []
          },
          "output_type": "display_data"
        }
      ],
      "source": [
        "## Initial condition\n",
        "\n",
        "## 100% population at state = STATE, nu = VLEVEL\n",
        "STATE = 1 # = g2\n",
        "VLEVEL = N-2\n",
        "\n",
        "def init_state(i):\n",
        "    val = krDelta(i,index_1d(STATE,VLEVEL))\n",
        "    return val\n",
        "\n",
        "plt.bar([VL for VL in range(N)],[init_state(index_1d(STATE,VL)) for VL in range(N)], align=\"center\")\n",
        "plt.xlabel(r'Vibrational level $\\nu$')\n",
        "plt.ylabel('Initial population')\n",
        "\n",
        "rho_init = np.array([init_state(i) for i in range(5*N*5*N)], dtype=np.complex64)"
      ]
    },
    {
      "cell_type": "code",
      "execution_count": null,
      "metadata": {
        "colab": {
          "base_uri": "https://localhost:8080/"
        },
        "id": "V2jTeTDXmU-1",
        "outputId": "018bcad6-a2bb-465a-e555-5db17999b5e0"
      },
      "outputs": [
        {
          "name": "stderr",
          "output_type": "stream",
          "text": [
            "100%|█████████▉| 4999/5000 [28:42<00:00,  2.90us/s]\n"
          ]
        }
      ],
      "source": [
        "## Solve the Lindblad equation\n",
        "\n",
        "with tqdm(total=t_limit*1000, unit=\"us\") as pbar:\n",
        "    sol = solve_ivp(RSC, (0, t_limit), rho_init, rtol=1e-13, args=[pbar, [0, 1/1000]])"
      ]
    },
    {
      "cell_type": "code",
      "execution_count": null,
      "metadata": {
        "colab": {
          "base_uri": "https://localhost:8080/",
          "height": 297
        },
        "id": "U2BbJl03mef-",
        "outputId": "97d2df3e-b345-4a9d-c3fa-e025a17d6a5d"
      },
      "outputs": [
        {
          "data": {
            "text/plain": [
              "Text(0, 0.5, 'Mean Vibrational Level $\\\\left< \\\\nu \\\\right>$')"
            ]
          },
          "execution_count": 27,
          "metadata": {
            "tags": []
          },
          "output_type": "execute_result"
        },
        {
          "data": {
            "image/png": "[encoded data removed]",
            "text/plain": [
              "<Figure size 432x288 with 1 Axes>"
            ]
          },
          "metadata": {
            "needs_background": "light",
            "tags": []
          },
          "output_type": "display_data"
        }
      ],
      "source": [
        "## Mean Vibrational Level (from 0 to N-2) at g2 state\n",
        "\n",
        "def MVL (y, N):\n",
        "  ST = 1\n",
        "  val = 0\n",
        "  for VL in range(N-1):\n",
        "    val = val + VL * y[index_1d(ST,VL)].real\n",
        "  return val/(N-2)\n",
        "\n",
        "plt.plot(sol.t, MVL(sol.y,N))\n",
        "plt.yscale('log')\n",
        "plt.xlabel('Time [ms]')\n",
        "plt.ylabel(r'Mean Vibrational Level $\\left< \\nu \\right>$')"
      ]
    },
    {
      "cell_type": "code",
      "execution_count": null,
      "metadata": {
        "colab": {
          "base_uri": "https://localhost:8080/",
          "height": 297
        },
        "id": "_voZevQCmlOw",
        "outputId": "d2fc0c7d-bba2-4031-d6ec-b2b9fadf644b"
      },
      "outputs": [
        {
          "data": {
            "text/plain": [
              "<matplotlib.legend.Legend at 0x7ffb31481860>"
            ]
          },
          "execution_count": 28,
          "metadata": {
            "tags": []
          },
          "output_type": "execute_result"
        },
        {
          "data": {
            "image/png": "[encoded data removed]",
            "text/plain": [
              "<Figure size 432x288 with 1 Axes>"
            ]
          },
          "metadata": {
            "needs_background": "light",
            "tags": []
          },
          "output_type": "display_data"
        }
      ],
      "source": [
        "## Populations of selected levels\n",
        "\n",
        "plt.plot(sol.t, np.abs(sol.y[index_1d(1,N-2)]),label=r'$\\left| g2,N-2 \\right>$')\n",
        "plt.plot(sol.t, np.abs(sol.y[index_1d(0,N-3)]),label=r'$\\left| g1,N-3 \\right>$')\n",
        "#plt.xlim(0,0.0001)\n",
        "plt.xlabel('Time [ms]')\n",
        "plt.ylabel('Population')\n",
        "plt.legend(loc='upper right')"
      ]
    },
    {
      "cell_type": "code",
      "execution_count": null,
      "metadata": {
        "colab": {
          "base_uri": "https://localhost:8080/",
          "height": 297
        },
        "id": "WpTal5kAm1be",
        "outputId": "31234892-187e-4070-be98-b60ddc805b01"
      },
      "outputs": [
        {
          "data": {
            "text/plain": [
              "<matplotlib.legend.Legend at 0x7ffb31400780>"
            ]
          },
          "execution_count": 29,
          "metadata": {
            "tags": []
          },
          "output_type": "execute_result"
        },
        {
          "data": {
            "image/png": "[encoded data removed]",
            "text/plain": [
              "<Figure size 432x288 with 1 Axes>"
            ]
          },
          "metadata": {
            "needs_background": "light",
            "tags": []
          },
          "output_type": "display_data"
        }
      ],
      "source": [
        "## Total populations of each nu state\n",
        "\n",
        "def Ptrap (y, VL):\n",
        "    val = 0\n",
        "    for ST in range(5):\n",
        "        val = val + y[index_1d(ST,VL)].real\n",
        "    return val\n",
        "\n",
        "for VL in range(N):\n",
        "    plt.plot(sol.t, Ptrap(sol.y,VL), label=r'$\\nu = %d$'%VL)\n",
        "plt.xlabel('Time [ms]')\n",
        "plt.ylabel(r'Total population of each $\\nu$ state')\n",
        "plt.legend(loc='upper right')"
      ]
    },
    {
      "cell_type": "code",
      "execution_count": null,
      "metadata": {
        "colab": {
          "base_uri": "https://localhost:8080/",
          "height": 297
        },
        "id": "XaIoNEIBm8YP",
        "outputId": "28b7c815-62cc-47dc-80ae-90d045cb5d24"
      },
      "outputs": [
        {
          "data": {
            "text/plain": [
              "Text(0, 0.5, 'Total population of $\\\\nu=N-1$ states')"
            ]
          },
          "execution_count": 30,
          "metadata": {
            "tags": []
          },
          "output_type": "execute_result"
        },
        {
          "data": {
            "image/png": "[encoded data removed]",
            "text/plain": [
              "<Figure size 432x288 with 1 Axes>"
            ]
          },
          "metadata": {
            "needs_background": "light",
            "tags": []
          },
          "output_type": "display_data"
        }
      ],
      "source": [
        "## Fractional loss\n",
        "\n",
        "plt.plot(sol.t, Ptrap(sol.y,N-1))\n",
        "plt.xlabel('Time [ms]')\n",
        "plt.ylabel(r'Total population of $\\nu=N-1$ states')"
      ]
    },
    {
      "cell_type": "code",
      "execution_count": null,
      "metadata": {
        "colab": {
          "base_uri": "https://localhost:8080/",
          "height": 301
        },
        "id": "yK6SUgWenDoz",
        "outputId": "2cdde48d-9433-48e2-8dab-cb65fbfff935"
      },
      "outputs": [
        {
          "data": {
            "text/plain": [
              "Text(0, 0.5, 'Photon Scattering Rate [/ms]')"
            ]
          },
          "execution_count": 31,
          "metadata": {
            "tags": []
          },
          "output_type": "execute_result"
        },
        {
          "data": {
            "image/png": "[encoded data removed]",
            "text/plain": [
              "<Figure size 432x288 with 1 Axes>"
            ]
          },
          "metadata": {
            "needs_background": "light",
            "tags": []
          },
          "output_type": "display_data"
        }
      ],
      "source": [
        "## Photon Scattering Rate\n",
        "\n",
        "def PSR (y, N):\n",
        "  val = 0\n",
        "  for VL in range(N-1):\n",
        "    val = val + (GammaFactor(3,0)+GammaFactor(3,1)+GammaFactor(3,2))*y[(3*N+VL)*5*N + (3*N+VL)].real + GammaFactor(4,1)*y[(4*N+VL)*5*N + (4*N+VL)].real\n",
        "  return val\n",
        "\n",
        "plt.plot(sol.t, PSR(sol.y,N))\n",
        "plt.xlabel('Time [ms]')\n",
        "plt.ylabel('Photon Scattering Rate [/ms]')"
      ]
    },
    {
      "cell_type": "code",
      "execution_count": null,
      "metadata": {
        "colab": {
          "base_uri": "https://localhost:8080/",
          "height": 307
        },
        "id": "OZ5Ok1J5nJAU",
        "outputId": "e0b3b16b-7eaf-403b-c47c-e6b0320fc78d"
      },
      "outputs": [
        {
          "data": {
            "text/plain": [
              "Text(0, 0.5, 'Sum of populations of all states\\n(should be normalized to 1)')"
            ]
          },
          "execution_count": 32,
          "metadata": {
            "tags": []
          },
          "output_type": "execute_result"
        },
        {
          "data": {
            "image/png": "[encoded data removed]",
            "text/plain": [
              "<Figure size 432x288 with 1 Axes>"
            ]
          },
          "metadata": {
            "needs_background": "light",
            "tags": []
          },
          "output_type": "display_data"
        }
      ],
      "source": [
        "## check normalization of total population \\sum_{levels} rho(level,level)\n",
        "\n",
        "def total_population (y,N):\n",
        "    val = 0\n",
        "    for L in range(5*N):\n",
        "        val = val + y[L*5*N + L].real\n",
        "    return val\n",
        "\n",
        "plt.plot(sol.t, total_population(sol.y,N))\n",
        "#plt.ylim(0.99999999999999,1.00000000000001)\n",
        "plt.xlabel('Time [ms]')\n",
        "plt.ylabel('Sum of populations of all states\\n(should be normalized to 1)')"
      ]
    }
  ],
  "metadata": {
    "colab": {
      "provenance": []
    },
    "kernelspec": {
      "display_name": "Python 3",
      "language": "python",
      "name": "python3"
    },
    "language_info": {
      "codemirror_mode": {
        "name": "ipython",
        "version": 3
      },
      "file_extension": ".py",
      "mimetype": "text/x-python",
      "name": "python",
      "nbconvert_exporter": "python",
      "pygments_lexer": "ipython3",
      "version": "3.8.5"
    }
  },
  "nbformat": 4,
  "nbformat_minor": 0
}
